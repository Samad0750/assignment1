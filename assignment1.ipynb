{
 "cells": [
  {
   "cell_type": "code",
   "execution_count": 15,
   "id": "77123498-a787-448d-a0ae-05707921f599",
   "metadata": {},
   "outputs": [],
   "source": [
    "#question 1:\n",
    "a=\"pswkills\"\n",
    "b=[1,2,3,4,'pwskills',True]\n",
    "c=90.05\n",
    "d=(1,2,3,45)\n"
   ]
  },
  {
   "cell_type": "code",
   "execution_count": 16,
   "id": "6ddb257b-cbfc-45d9-be9e-2a6767d6a2fa",
   "metadata": {},
   "outputs": [],
   "source": [
    "#question 2:\n",
    "var1='string'\n",
    "var2='string'\n",
    "var3='list'\n",
    "var4='integer'"
   ]
  },
  {
   "cell_type": "code",
   "execution_count": 17,
   "id": "1a3845d1-1a60-4e43-ba08-03226cabc9b3",
   "metadata": {},
   "outputs": [
    {
     "data": {
      "text/plain": [
       "'exponent'"
      ]
     },
     "execution_count": 17,
     "metadata": {},
     "output_type": "execute_result"
    }
   ],
   "source": [
    "#question 3:\n",
    "'division'\n",
    "'modulo'\n",
    "'floor division'\n",
    "'exponent'"
   ]
  },
  {
   "cell_type": "code",
   "execution_count": 18,
   "id": "57c58a29-b58a-4fae-9cde-9d1ff021efec",
   "metadata": {},
   "outputs": [
    {
     "data": {
      "text/plain": [
       "['pwskills',\n",
       " 'samad chauhan',\n",
       " True,\n",
       " False,\n",
       " 78,\n",
       " 89.86,\n",
       " 96,\n",
       " 'python',\n",
       " 0.87,\n",
       " [1, 2, 3, 4]]"
      ]
     },
     "execution_count": 18,
     "metadata": {},
     "output_type": "execute_result"
    }
   ],
   "source": [
    "#question 4:\n",
    "L=[\"pwskills\",\"samad chauhan\",True,False,78,89.86,96,'python',0.87,[1,2,3,4]]\n",
    "L"
   ]
  },
  {
   "cell_type": "code",
   "execution_count": 19,
   "id": "7c1974fc-1b94-46e3-ad01-509f574364c3",
   "metadata": {},
   "outputs": [
    {
     "name": "stdout",
     "output_type": "stream",
     "text": [
      "pwskills\n",
      "samad chauhan\n",
      "True\n",
      "False\n",
      "78\n",
      "89.86\n",
      "96\n",
      "python\n",
      "0.87\n",
      "[1, 2, 3, 4]\n"
     ]
    }
   ],
   "source": [
    "for i in L:\n",
    "    print(i)\n",
    "    "
   ]
  },
  {
   "cell_type": "code",
   "execution_count": 20,
   "id": "efb220b5-46d6-4a2c-aab3-f59f2e272a10",
   "metadata": {},
   "outputs": [
    {
     "name": "stdout",
     "output_type": "stream",
     "text": [
      "<class 'str'>\n",
      "<class 'str'>\n",
      "<class 'bool'>\n",
      "<class 'bool'>\n",
      "<class 'int'>\n",
      "<class 'float'>\n",
      "<class 'int'>\n",
      "<class 'str'>\n",
      "<class 'float'>\n",
      "<class 'list'>\n"
     ]
    }
   ],
   "source": [
    "for i in L:\n",
    "    print(type(i))"
   ]
  },
  {
   "cell_type": "code",
   "execution_count": 21,
   "id": "02bdd807-b789-47b3-892c-8dd17270fe32",
   "metadata": {},
   "outputs": [],
   "source": [
    "#question 5:\n"
   ]
  },
  {
   "cell_type": "code",
   "execution_count": 22,
   "id": "147ae764-469c-45d1-947c-94b004e71f01",
   "metadata": {},
   "outputs": [
    {
     "data": {
      "text/plain": [
       "[143,\n",
       " 109,\n",
       " 406,\n",
       " 395,\n",
       " 98,\n",
       " 11,\n",
       " 497,\n",
       " 347,\n",
       " 405,\n",
       " 472,\n",
       " 22,\n",
       " 494,\n",
       " 489,\n",
       " 304,\n",
       " 276,\n",
       " 16,\n",
       " 300,\n",
       " 40,\n",
       " 320,\n",
       " 351,\n",
       " 308,\n",
       " 439,\n",
       " 65,\n",
       " 91,\n",
       " 297]"
      ]
     },
     "execution_count": 22,
     "metadata": {},
     "output_type": "execute_result"
    }
   ],
   "source": [
    "#question 6:\n",
    "import random\n",
    "l1=random.sample(range(1,500),25)\n",
    "l1\n"
   ]
  },
  {
   "cell_type": "code",
   "execution_count": 27,
   "id": "1b61eecf-f574-4c5a-b259-8b79dc044152",
   "metadata": {},
   "outputs": [
    {
     "name": "stdout",
     "output_type": "stream",
     "text": [
      "143\n",
      "it is not divisible by 3\n",
      "109\n",
      "it is not divisible by 3\n",
      "406\n",
      "it is not divisible by 3\n",
      "395\n",
      "it is not divisible by 3\n",
      "98\n",
      "it is not divisible by 3\n",
      "11\n",
      "it is not divisible by 3\n",
      "497\n",
      "it is not divisible by 3\n",
      "347\n",
      "it is not divisible by 3\n",
      "405\n",
      "it is divisible by 3\n",
      "472\n",
      "it is not divisible by 3\n",
      "22\n",
      "it is not divisible by 3\n",
      "494\n",
      "it is not divisible by 3\n",
      "489\n",
      "it is divisible by 3\n",
      "304\n",
      "it is not divisible by 3\n",
      "276\n",
      "it is divisible by 3\n",
      "16\n",
      "it is not divisible by 3\n",
      "300\n",
      "it is divisible by 3\n",
      "40\n",
      "it is not divisible by 3\n",
      "320\n",
      "it is not divisible by 3\n",
      "351\n",
      "it is divisible by 3\n",
      "308\n",
      "it is not divisible by 3\n",
      "439\n",
      "it is not divisible by 3\n",
      "65\n",
      "it is not divisible by 3\n",
      "91\n",
      "it is not divisible by 3\n",
      "297\n",
      "it is divisible by 3\n"
     ]
    }
   ],
   "source": [
    "for i in l1:\n",
    "    print(i)\n",
    "    if i%3==0:\n",
    "        print(\"it is divisible by 3\")\n",
    "    else:\n",
    "        print(\"it is not divisible by 3\")"
   ]
  },
  {
   "cell_type": "code",
   "execution_count": 24,
   "id": "0575d5c0-017d-4290-a256-2b15c2b1a193",
   "metadata": {},
   "outputs": [],
   "source": [
    "#question7:\n",
    "\n",
    "\n",
    "#mutable data are those in which we can modify ,remove,append different type of data while immutable data are those which cannot be change further as per our requirements)\n",
    "#example of mutbale data are lists,dictionary\n",
    "#example of immutable data are tuple,string\n",
    "\n"
   ]
  },
  {
   "cell_type": "code",
   "execution_count": 25,
   "id": "292b18fc-18cb-4192-855d-afcd34ac5569",
   "metadata": {},
   "outputs": [
    {
     "data": {
      "text/plain": [
       "[34, 4, 0, 654, 3, 35]"
      ]
     },
     "execution_count": 25,
     "metadata": {},
     "output_type": "execute_result"
    }
   ],
   "source": [
    "# EXAMPLE OF MUTABBILITY\n",
    "l2=[34,4,56,654,3,35]\n",
    "l2[2]=0\n",
    "l2"
   ]
  },
  {
   "cell_type": "code",
   "execution_count": 26,
   "id": "e6280d24-0404-4f98-8db3-a5b44345df72",
   "metadata": {},
   "outputs": [
    {
     "ename": "TypeError",
     "evalue": "'tuple' object does not support item assignment",
     "output_type": "error",
     "traceback": [
      "\u001b[0;31m---------------------------------------------------------------------------\u001b[0m",
      "\u001b[0;31mTypeError\u001b[0m                                 Traceback (most recent call last)",
      "Cell \u001b[0;32mIn[26], line 3\u001b[0m\n\u001b[1;32m      1\u001b[0m \u001b[38;5;66;03m# EXAMPLE OF IMMUTABILY\u001b[39;00m\n\u001b[1;32m      2\u001b[0m T\u001b[38;5;241m=\u001b[39m(\u001b[38;5;241m34\u001b[39m,\u001b[38;5;241m4\u001b[39m,\u001b[38;5;241m56\u001b[39m,\u001b[38;5;241m654\u001b[39m,\u001b[38;5;241m3\u001b[39m,\u001b[38;5;241m35\u001b[39m)\n\u001b[0;32m----> 3\u001b[0m \u001b[43mT\u001b[49m\u001b[43m[\u001b[49m\u001b[38;5;241;43m4\u001b[39;49m\u001b[43m]\u001b[49m\u001b[38;5;241m=\u001b[39m\u001b[38;5;241m6\u001b[39m\n\u001b[1;32m      4\u001b[0m T\n",
      "\u001b[0;31mTypeError\u001b[0m: 'tuple' object does not support item assignment"
     ]
    }
   ],
   "source": [
    "# EXAMPLE OF IMMUTABILY\n",
    "T=(34,4,56,654,3,35)\n",
    "T[4]=6\n",
    "T\n"
   ]
  },
  {
   "cell_type": "code",
   "execution_count": 34,
   "id": "35d109fb-7bf5-4f10-9cec-11b5aa5c98e0",
   "metadata": {},
   "outputs": [
    {
     "name": "stdin",
     "output_type": "stream",
     "text": [
      "enter number A 78\n",
      "enter number B 2\n"
     ]
    },
    {
     "name": "stdout",
     "output_type": "stream",
     "text": [
      "A is purely divisible by B\n"
     ]
    }
   ],
   "source": [
    "#question 5\n",
    "i=0\n",
    "A=int(input(\"enter number A\"))\n",
    "B=int(input(\"enter number B\"))\n",
    "\n",
    "while A%B==0:\n",
    "    print(\"A is purely divisible by B\")\n",
    "  \n",
    "    \n",
    "    "
   ]
  },
  {
   "cell_type": "code",
   "execution_count": null,
   "id": "e301a018-ed82-4387-9555-d74833a8bdce",
   "metadata": {},
   "outputs": [],
   "source": []
  },
  {
   "cell_type": "code",
   "execution_count": null,
   "id": "ec133dc4-9326-463c-95f5-eb5f16492089",
   "metadata": {},
   "outputs": [],
   "source": []
  },
  {
   "cell_type": "code",
   "execution_count": null,
   "id": "f47fbfb5-e4b5-4181-9cf2-909a59e9ba52",
   "metadata": {},
   "outputs": [],
   "source": []
  }
 ],
 "metadata": {
  "kernelspec": {
   "display_name": "Python 3 (ipykernel)",
   "language": "python",
   "name": "python3"
  },
  "language_info": {
   "codemirror_mode": {
    "name": "ipython",
    "version": 3
   },
   "file_extension": ".py",
   "mimetype": "text/x-python",
   "name": "python",
   "nbconvert_exporter": "python",
   "pygments_lexer": "ipython3",
   "version": "3.10.8"
  }
 },
 "nbformat": 4,
 "nbformat_minor": 5
}
